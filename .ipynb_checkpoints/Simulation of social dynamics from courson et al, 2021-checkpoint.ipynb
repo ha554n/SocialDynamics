{
 "cells": [
  {
   "cell_type": "markdown",
   "id": "21c46081",
   "metadata": {},
   "source": [
    "# Aim\n"
   ]
  },
  {
   "cell_type": "markdown",
   "id": "db35b5a0",
   "metadata": {},
   "source": [
    "To replicate Courson et al, 2021\n",
    "\n",
    "The ability to learn from others (social learning) is often deemed a cause of human species success. But if social learning is indeed more efficient (whether less costly or more accurate) than individual learning, it raises the question of why would anyone engage in individual information seeking, which is a necessary condition for social learning’s efficacy. We propose an evolutionary model solving this paradox, provided agents (i) aim not only at information quality but also vie for audience and prestige, and (ii) do not only value accuracy but also reward originality—allowing them to alleviate herding effects. We find that under some conditions (large enough success rate of informed agents and intermediate taste for popularity), both social learning’s higher accuracy and the taste for original opinions are evolutionarily-stable, within a mutually beneficial division of labour-like equilibrium. When such conditions are not met, the system most often converges towards mutually detrimental equilibria.\n",
    "\n",
    "https://www.nature.com/articles/s41598-021-95914-7"
   ]
  },
  {
   "cell_type": "markdown",
   "id": "b735bf7a",
   "metadata": {},
   "source": [
    "Replicating the first experiment where social learning is influenced by the number of followers who copy information from others."
   ]
  },
  {
   "cell_type": "code",
   "execution_count": 1,
   "id": "1fd3a015",
   "metadata": {
    "ExecuteTime": {
     "end_time": "2022-12-30T18:55:52.410218Z",
     "start_time": "2022-12-30T18:55:47.781719Z"
    }
   },
   "outputs": [],
   "source": [
    "import pandas as pd\n",
    "import numpy as np\n",
    "import matplotlib.pyplot as plt\n",
    "import seaborn as sns\n",
    "import matplotlib as mpl"
   ]
  },
  {
   "cell_type": "code",
   "execution_count": 207,
   "id": "a8f4fa05",
   "metadata": {
    "ExecuteTime": {
     "end_time": "2022-12-30T20:03:00.356449Z",
     "start_time": "2022-12-30T20:03:00.337488Z"
    }
   },
   "outputs": [],
   "source": [
    "class simpleModel:\n",
    "    def __init__(self,guessGroup,followP,thresholdP):\n",
    "        self.initialGuesses=np.concatenate([np.repeat(1,50),np.repeat(0,50)])\n",
    "        np.random.shuffle(self.initialGuesses)\n",
    "        self.initialGuesses=self.initialGuesses.reshape(10,10)\n",
    "        self.raveledGuess=np.ravel(self.initialGuesses)#ravel guess matrix\n",
    "        #pick m unique random numbers from 0-100\n",
    "        self.m=guessGroup\n",
    "        self.z=followP\n",
    "        self.q=thresholdP\n",
    "        \n",
    "        self.correct=1#which ID is correct\n",
    "        self.ratio=np.unique(self.raveledGuess,return_counts=True)[1]#get ratio\n",
    "        self.score=self.ratio[self.correct]/100 #get score\n",
    "        self.followers=np.random.choice(100,self.z)#pick idx of followers\n",
    "        \n",
    "    def plotGuesses(self):\n",
    "        try:\n",
    "            assert self.initialGuesses.shape==(10,10)\n",
    "        except AssertionError:\n",
    "            self.initialGuesses.reshape(10,10)\n",
    "        sns.heatmap(self.initialGuesses, cbar=False, cmap='Blues')\n",
    "        \n",
    "    def runGame(self):        \n",
    "        self.changeIdx=np.random.choice(self.followers,size=1)#pick person who is going to look\n",
    "        self.picked_idx=np.random.choice(100,size=self.m,replace=False)#pick a group of random people, m, to copy\n",
    "        self.m_sample=self.raveledGuess[self.picked_idx]#what is the sample\n",
    "    #     print(m_sample)\n",
    "    #     print(np.unique(m_sample,return_counts=True))\n",
    "        self.winner=np.argmax(np.unique(self.m_sample,return_counts=True)[1])#find consensus\n",
    "    #     print(winner)\n",
    "        self.raveledGuess[self.changeIdx]=self.winner#update to winner\n",
    "        \n",
    "        self.ratio=np.unique(self.raveledGuess,return_counts=True)[1]#update ratio\n",
    "        self.score=self.ratio[self.correct]/100#update score\n",
    "        \n",
    "        return(self.score)\n",
    "\n",
    "        \n",
    "    "
   ]
  },
  {
   "cell_type": "code",
   "execution_count": 213,
   "id": "9a6abe0c",
   "metadata": {
    "ExecuteTime": {
     "end_time": "2022-12-30T20:03:14.871934Z",
     "start_time": "2022-12-30T20:03:14.855771Z"
    }
   },
   "outputs": [],
   "source": [
    "run1=simpleModel(9,75,.53)"
   ]
  },
  {
   "cell_type": "code",
   "execution_count": 214,
   "id": "3aa4d3f8",
   "metadata": {
    "ExecuteTime": {
     "end_time": "2022-12-30T20:03:15.734306Z",
     "start_time": "2022-12-30T20:03:15.666039Z"
    }
   },
   "outputs": [
    {
     "name": "stdout",
     "output_type": "stream",
     "text": [
      "0.51\n",
      "0.51\n",
      "0.51\n",
      "0.51\n",
      "0.51\n",
      "0.5\n",
      "0.5\n",
      "0.51\n",
      "0.51\n",
      "0.5\n",
      "0.51\n",
      "0.51\n",
      "0.51\n",
      "0.5\n",
      "0.5\n",
      "0.51\n",
      "0.5\n",
      "0.49\n",
      "0.48\n",
      "0.48\n",
      "0.48\n",
      "0.49\n",
      "0.5\n",
      "0.51\n",
      "0.51\n",
      "0.51\n",
      "0.51\n",
      "0.52\n",
      "0.52\n",
      "0.51\n",
      "0.52\n",
      "0.51\n",
      "0.5\n",
      "0.5\n",
      "0.51\n",
      "0.5\n",
      "0.51\n",
      "0.5\n",
      "0.5\n",
      "0.5\n",
      "0.5\n",
      "0.51\n",
      "0.51\n",
      "0.52\n",
      "0.53\n"
     ]
    }
   ],
   "source": [
    "score_keeper=[]\n",
    "\n",
    "while run1.score<run1.q:\n",
    "    print(run1.runGame())"
   ]
  },
  {
   "cell_type": "code",
   "execution_count": 205,
   "id": "a0e3534b",
   "metadata": {
    "ExecuteTime": {
     "end_time": "2022-12-30T20:01:47.105461Z",
     "start_time": "2022-12-30T20:01:47.040524Z"
    }
   },
   "outputs": [
    {
     "ename": "TypeError",
     "evalue": "__init__() missing 3 required positional arguments: 'guessGroup', 'followP', and 'thresholdP'",
     "output_type": "error",
     "traceback": [
      "\u001b[1;31m---------------------------------------------------------------------------\u001b[0m",
      "\u001b[1;31mTypeError\u001b[0m                                 Traceback (most recent call last)",
      "Input \u001b[1;32mIn [205]\u001b[0m, in \u001b[0;36m<cell line: 1>\u001b[1;34m()\u001b[0m\n\u001b[1;32m----> 1\u001b[0m run1\u001b[38;5;241m=\u001b[39m\u001b[43msimpleModel\u001b[49m\u001b[43m(\u001b[49m\u001b[43m)\u001b[49m\n\u001b[0;32m      2\u001b[0m x\u001b[38;5;241m=\u001b[39m\u001b[38;5;241m1\u001b[39m\n\u001b[0;32m      3\u001b[0m correct\u001b[38;5;241m=\u001b[39m\u001b[38;5;241m1\u001b[39m\n",
      "\u001b[1;31mTypeError\u001b[0m: __init__() missing 3 required positional arguments: 'guessGroup', 'followP', and 'thresholdP'"
     ]
    }
   ],
   "source": [
    "run1=simpleModel()\n",
    "x=1\n",
    "correct=1\n",
    "ratio=np.unique(run1.raveledGuess,return_counts=True)[1]\n",
    "score=ratio[correct]/100\n",
    "i=0\n",
    "qhat=0.53\n",
    "z=75\n",
    "followers=np.random.choice(100,z)#pick idx of followers\n",
    "score_keeper=[]\n",
    "\n",
    "print('correct is '+ str(correct) + '\\n'\n",
    "     'qhat is ' + str(qhat) + '\\n'\n",
    "     'proportion of followers z is '+ str(z/100) ) \n",
    "customMap=cmap = [\"white\", \"black\"]\n",
    "\n",
    "while score<qhat:\n",
    "# for i in np.arange(10):\n",
    "#     print(score)\n",
    "    changeIdx=np.random.choice(followers,size=x)#pick person who is going to look\n",
    "    picked_idx=np.random.choice(100,size=run1.m,replace=False)\n",
    "    m_sample=run1.raveledGuess[picked_idx]#what is the sample\n",
    "#     print(m_sample)\n",
    "#     print(np.unique(m_sample,return_counts=True))\n",
    "    winner=np.argmax(np.unique(m_sample,return_counts=True)[1])#find consensus\n",
    "#     print(winner)\n",
    "    run1.raveledGuess[changeIdx]=winner#update to winner\n",
    "    if not(i %100):\n",
    "        sns.heatmap(run1.raveledGuess.reshape(10,10), cmap='Blues',cbar=False)\n",
    "        plt.title('iteration number '+str(i) + ' score =  '+str(score))\n",
    "        plt.show()\n",
    "        \n",
    "    ratio=np.unique(run1.raveledGuess,return_counts=True)[1]\n",
    "    score=ratio[correct]/100\n",
    "#     print(ratio)\n",
    "    i+=1\n",
    "    \n",
    "    if score<.25:\n",
    "        break\n",
    "    if score==qhat:\n",
    "        sns.heatmap(run1.raveledGuess.reshape(10,10), cmap='Blues',cbar=False)\n",
    "        plt.title('iteration number '+str(i) + ' score =  '+str(score))\n",
    "        plt.show()\n",
    "    if i>2500:\n",
    "        break\n",
    "    score_keeper.append(score)\n",
    "plt.plot(score_keeper)\n",
    "plt.xlabel('iterations')\n",
    "plt.ylabel('score')\n",
    "\n",
    "print('correct is '+ str(correct) + '\\n'\n",
    "     'qhat is ' + str(qhat) + '\\n'\n",
    "     'proportion of followers z is '+ str(z/100) ) "
   ]
  },
  {
   "cell_type": "markdown",
   "id": "5013a837",
   "metadata": {},
   "source": [
    "As the proportion of followers increases, the accuracy decreases"
   ]
  }
 ],
 "metadata": {
  "kernelspec": {
   "display_name": "Python 3 (ipykernel)",
   "language": "python",
   "name": "python3"
  },
  "language_info": {
   "codemirror_mode": {
    "name": "ipython",
    "version": 3
   },
   "file_extension": ".py",
   "mimetype": "text/x-python",
   "name": "python",
   "nbconvert_exporter": "python",
   "pygments_lexer": "ipython3",
   "version": "3.8.8"
  },
  "toc": {
   "base_numbering": 1,
   "nav_menu": {},
   "number_sections": true,
   "sideBar": true,
   "skip_h1_title": false,
   "title_cell": "Table of Contents",
   "title_sidebar": "Contents",
   "toc_cell": false,
   "toc_position": {},
   "toc_section_display": true,
   "toc_window_display": false
  },
  "varInspector": {
   "cols": {
    "lenName": 16,
    "lenType": 16,
    "lenVar": 40
   },
   "kernels_config": {
    "python": {
     "delete_cmd_postfix": "",
     "delete_cmd_prefix": "del ",
     "library": "var_list.py",
     "varRefreshCmd": "print(var_dic_list())"
    },
    "r": {
     "delete_cmd_postfix": ") ",
     "delete_cmd_prefix": "rm(",
     "library": "var_list.r",
     "varRefreshCmd": "cat(var_dic_list()) "
    }
   },
   "types_to_exclude": [
    "module",
    "function",
    "builtin_function_or_method",
    "instance",
    "_Feature"
   ],
   "window_display": false
  }
 },
 "nbformat": 4,
 "nbformat_minor": 5
}
