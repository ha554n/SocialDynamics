{
 "cells": [
  {
   "cell_type": "markdown",
   "id": "21c46081",
   "metadata": {},
   "source": [
    "# Aim\n"
   ]
  },
  {
   "cell_type": "markdown",
   "id": "db35b5a0",
   "metadata": {},
   "source": [
    "To replicate Courson et al, 2021\n",
    "\n",
    "The ability to learn from others (social learning) is often deemed a cause of human species success. But if social learning is indeed more efficient (whether less costly or more accurate) than individual learning, it raises the question of why would anyone engage in individual information seeking, which is a necessary condition for social learning’s efficacy. We propose an evolutionary model solving this paradox, provided agents (i) aim not only at information quality but also vie for audience and prestige, and (ii) do not only value accuracy but also reward originality—allowing them to alleviate herding effects. We find that under some conditions (large enough success rate of informed agents and intermediate taste for popularity), both social learning’s higher accuracy and the taste for original opinions are evolutionarily-stable, within a mutually beneficial division of labour-like equilibrium. When such conditions are not met, the system most often converges towards mutually detrimental equilibria.\n",
    "\n",
    "https://www.nature.com/articles/s41598-021-95914-7"
   ]
  },
  {
   "cell_type": "markdown",
   "id": "b735bf7a",
   "metadata": {},
   "source": [
    "Replicating the first experiment where social learning is influenced by the number of followers who copy information from others."
   ]
  },
  {
   "cell_type": "code",
   "execution_count": 159,
   "id": "1fd3a015",
   "metadata": {
    "ExecuteTime": {
     "end_time": "2023-01-03T17:55:16.898511Z",
     "start_time": "2023-01-03T17:55:16.889536Z"
    }
   },
   "outputs": [],
   "source": [
    "import pandas as pd\n",
    "import numpy as np\n",
    "import matplotlib.pyplot as plt\n",
    "import seaborn as sns\n",
    "from tqdm import tqdm\n",
    "import matplotlib as mpl"
   ]
  },
  {
   "cell_type": "markdown",
   "id": "79095b10",
   "metadata": {},
   "source": [
    "# Functions"
   ]
  },
  {
   "cell_type": "code",
   "execution_count": 208,
   "id": "57bb325e",
   "metadata": {
    "ExecuteTime": {
     "end_time": "2023-01-03T18:10:01.834346Z",
     "start_time": "2023-01-03T18:10:01.816394Z"
    }
   },
   "outputs": [],
   "source": [
    "def initializePopulation(pFollow,N):\n",
    "    population=np.arange(N)#initalize pop\n",
    "    nFollow=int(pFollow*100)#number of followers\n",
    "    followers=np.random.choice(N,nFollow,replace=False)#get idx of followers\n",
    "    followers=[i for i in followers]#intolist\n",
    "    informed=[x for x in population if x not in followers] #informed idx\n",
    "    return(followers, informed)"
   ]
  },
  {
   "cell_type": "code",
   "execution_count": 277,
   "id": "e27ccdd2",
   "metadata": {
    "ExecuteTime": {
     "end_time": "2023-01-03T18:27:08.847494Z",
     "start_time": "2023-01-03T18:27:08.836551Z"
    }
   },
   "outputs": [],
   "source": [
    "def initializeGuesses(followers,informed,q,N):\n",
    "    initialGuesses=np.random.choice([0,1],N)#random guess\n",
    "    initialGuesses[informed]=np.random.choice([0,1],p=[1-q,q],size=len(informed)) #informed change to accuracy level\n",
    "    return(initialGuesses)"
   ]
  },
  {
   "cell_type": "code",
   "execution_count": 354,
   "id": "06f812c9",
   "metadata": {
    "ExecuteTime": {
     "end_time": "2023-01-03T19:23:12.318312Z",
     "start_time": "2023-01-03T19:23:12.306345Z"
    }
   },
   "outputs": [],
   "source": [
    "def playGame(initialGuesses,m,N,q,followers,informed):\n",
    "    score=[]\n",
    "    guessList=initialGuesses.copy()\n",
    "    for i in followers: #for each follower\n",
    "        picked_idx=np.random.choice(N,size=m,replace=False)#pick a sample idx from population\n",
    "        m_sample=guessList[picked_idx]#what is the sample guesses\n",
    "        consensus=np.argmax(np.unique(m_sample,return_counts=True)[1])#find consensus\n",
    "        guessList[i]=consensus#set follower opinion to consensus\n",
    "    score.append(np.sum(guessList)/N)#once done with all followers, update overall population accuracy\n",
    "    return(score, guessList)"
   ]
  },
  {
   "cell_type": "code",
   "execution_count": 374,
   "id": "90b60288",
   "metadata": {
    "ExecuteTime": {
     "end_time": "2023-01-03T19:27:56.666672Z",
     "start_time": "2023-01-03T19:27:56.644002Z"
    }
   },
   "outputs": [],
   "source": [
    "def plotGuesses(guessList):\n",
    "    score=sum(guessList)/100 #get score\n",
    "    guessList=guessList.reshape(10,10)\n",
    "    title='Percent Correct '+str(score*100)+'%'\n",
    "    sns.heatmap(guessList, cbar=False, cmap='Blues',linecolor='k', linewidths=0.1, xticklabels=False,yticklabels=False)\n",
    "    plt.title(title)"
   ]
  },
  {
   "cell_type": "markdown",
   "id": "aa1a3d94",
   "metadata": {},
   "source": [
    "# Simulation"
   ]
  },
  {
   "cell_type": "code",
   "execution_count": 416,
   "id": "4399212e",
   "metadata": {
    "ExecuteTime": {
     "end_time": "2023-01-03T19:59:13.508996Z",
     "start_time": "2023-01-03T19:59:12.207003Z"
    }
   },
   "outputs": [
    {
     "name": "stderr",
     "output_type": "stream",
     "text": [
      "100%|██████████████████████████████████████████████████████████████████████████████████| 20/20 [00:01<00:00, 19.74it/s]\n"
     ]
    },
    {
     "data": {
      "text/plain": [
       "Text(0, 0.5, 'Final Population Accuracy')"
      ]
     },
     "execution_count": 416,
     "metadata": {},
     "output_type": "execute_result"
    },
    {
     "data": {
      "image/png": "[encoded data removed]",
      "text/plain": [
       "<Figure size 432x288 with 1 Axes>"
      ]
     },
     "metadata": {
      "needs_background": "light"
     },
     "output_type": "display_data"
    }
   ],
   "source": [
    "followerP=np.round(np.linspace(0,1,20),2)\n",
    "masterScore=[]\n",
    "N=100\n",
    "m=11\n",
    "q=1\n",
    "rep=10\n",
    "\n",
    "for i in tqdm(followerP):\n",
    "    followers,informed=initializePopulation(i,N)\n",
    "    scoreList=[]\n",
    "    for i in np.arange(rep):\n",
    "        initialGuesses=initializeGuesses(followers, informed,q,N)#initialize guesses\n",
    "        score,guessList=playGame(initialGuesses,m,N,q,followers,informed)\n",
    "        scoreList.append(score)\n",
    "    masterScore.append(scoreList)\n",
    "x=np.repeat(followerP,rep)\n",
    "y=[item for sublist in masterScore for item in sublist]\n",
    "plt.scatter(x,y,marker='x')\n",
    "plt.axhline(y=0.5,color='r',linestyle='--')\n",
    "plt.xlabel('Proportion of Followers')\n",
    "plt.ylabel('Final Population Accuracy')"
   ]
  },
  {
   "cell_type": "markdown",
   "id": "b7218317",
   "metadata": {},
   "source": [
    "# illustrative"
   ]
  },
  {
   "cell_type": "code",
   "execution_count": 398,
   "id": "8dc5c4c9",
   "metadata": {
    "ExecuteTime": {
     "end_time": "2023-01-03T19:46:08.489027Z",
     "start_time": "2023-01-03T19:46:08.472077Z"
    }
   },
   "outputs": [],
   "source": [
    "p=0.6\n",
    "N=100\n",
    "m=11\n",
    "q=0.52"
   ]
  },
  {
   "cell_type": "code",
   "execution_count": 395,
   "id": "3e9588c5",
   "metadata": {
    "ExecuteTime": {
     "end_time": "2023-01-03T19:29:22.143113Z",
     "start_time": "2023-01-03T19:29:22.116185Z"
    }
   },
   "outputs": [],
   "source": [
    "followers,informed=initializePopulation(p,N)\n",
    "initialGuesses=initializeGuesses(followers, informed,q,N)#initialize guesses\n",
    "score,guessList=playGame(initialGuesses,m,N,q,followers,informed)"
   ]
  },
  {
   "cell_type": "code",
   "execution_count": 396,
   "id": "66c14784",
   "metadata": {
    "ExecuteTime": {
     "end_time": "2023-01-03T19:29:23.165418Z",
     "start_time": "2023-01-03T19:29:23.082641Z"
    }
   },
   "outputs": [
    {
     "data": {
      "image/png": "[encoded data removed]",
      "text/plain": [
       "<Figure size 432x288 with 1 Axes>"
      ]
     },
     "metadata": {},
     "output_type": "display_data"
    }
   ],
   "source": [
    "plotGuesses(initialGuesses)"
   ]
  },
  {
   "cell_type": "code",
   "execution_count": 397,
   "id": "a8259be9",
   "metadata": {
    "ExecuteTime": {
     "end_time": "2023-01-03T19:29:25.440350Z",
     "start_time": "2023-01-03T19:29:25.352572Z"
    }
   },
   "outputs": [
    {
     "data": {
      "image/png": "[encoded data removed]",
      "text/plain": [
       "<Figure size 432x288 with 1 Axes>"
      ]
     },
     "metadata": {},
     "output_type": "display_data"
    }
   ],
   "source": [
    "plotGuesses(guessList)"
   ]
  }
 ],
 "metadata": {
  "kernelspec": {
   "display_name": "Python 3 (ipykernel)",
   "language": "python",
   "name": "python3"
  },
  "language_info": {
   "codemirror_mode": {
    "name": "ipython",
    "version": 3
   },
   "file_extension": ".py",
   "mimetype": "text/x-python",
   "name": "python",
   "nbconvert_exporter": "python",
   "pygments_lexer": "ipython3",
   "version": "3.8.8"
  },
  "toc": {
   "base_numbering": 1,
   "nav_menu": {},
   "number_sections": true,
   "sideBar": true,
   "skip_h1_title": false,
   "title_cell": "Table of Contents",
   "title_sidebar": "Contents",
   "toc_cell": false,
   "toc_position": {},
   "toc_section_display": true,
   "toc_window_display": false
  },
  "varInspector": {
   "cols": {
    "lenName": 16,
    "lenType": 16,
    "lenVar": 40
   },
   "kernels_config": {
    "python": {
     "delete_cmd_postfix": "",
     "delete_cmd_prefix": "del ",
     "library": "var_list.py",
     "varRefreshCmd": "print(var_dic_list())"
    },
    "r": {
     "delete_cmd_postfix": ") ",
     "delete_cmd_prefix": "rm(",
     "library": "var_list.r",
     "varRefreshCmd": "cat(var_dic_list()) "
    }
   },
   "types_to_exclude": [
    "module",
    "function",
    "builtin_function_or_method",
    "instance",
    "_Feature"
   ],
   "window_display": false
  }
 },
 "nbformat": 4,
 "nbformat_minor": 5
}
